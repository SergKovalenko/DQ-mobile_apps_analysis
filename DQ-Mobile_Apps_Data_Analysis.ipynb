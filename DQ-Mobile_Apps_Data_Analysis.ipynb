{
 "cells": [
  {
   "cell_type": "markdown",
   "metadata": {},
   "source": [
    "# Mobile Applications Data Analysis\n",
    "\n",
    "\n",
    "### What the project about:\n",
    "Analyse the data from Apple Store and Google Play Market. Mobile Applicatoins users, ratings, price etc.\n",
    "\n",
    "### Goal of project:\n",
    "By analysing the data understand the most profitable application type. Considering this will a be free app with main revenue thorugh in-app ads."
   ]
  },
  {
   "cell_type": "markdown",
   "metadata": {},
   "source": [
    "\n",
    "\n",
    "## Read data and analyse what valuable we have for our goal"
   ]
  },
  {
   "cell_type": "code",
   "execution_count": 10,
   "metadata": {},
   "outputs": [],
   "source": [
    "# Reading data files. Saving data as table structure - arrays of arrays.\n",
    "\n",
    "import csv\n",
    "\n",
    "android_aps_data = []\n",
    "ios_aps_data = []\n",
    "\n",
    "with open('google-play-store-apps/googleplaystore.csv') as android_aps_data_file:\n",
    "    csv_reader = csv.reader(android_aps_data_file)\n",
    "    \n",
    "    for row in csv_reader:\n",
    "        android_aps_data.append(row)\n",
    "        \n",
    "with open('app-store-apple-data-set-10k-apps/AppleStore.csv') as ios_aps_data_file:\n",
    "    csv_reader = csv.reader(ios_aps_data_file)\n",
    "    \n",
    "    for row in csv_reader:\n",
    "        ios_aps_data.append(row)\n"
   ]
  },
  {
   "cell_type": "code",
   "execution_count": 15,
   "metadata": {},
   "outputs": [],
   "source": [
    "# Function to explore and investigate data.\n",
    "\n",
    "def exloreData(dataset, start, stop, print_number_of_rows_and_column=False):\n",
    "    for row in dataset[start:stop]:\n",
    "        print(row)\n",
    "        print('\\n')\n",
    "        \n",
    "    if print_number_of_rows_and_columns:\n",
    "        print('Columns in total: ', len(row[0]))\n",
    "        print('Rows in total: ', len(dataset))\n",
    "    "
   ]
  },
  {
   "cell_type": "code",
   "execution_count": 23,
   "metadata": {},
   "outputs": [
    {
     "name": "stdout",
     "output_type": "stream",
     "text": [
      "['App', 'Category', 'Rating', 'Reviews', 'Size', 'Installs', 'Type', 'Price', 'Content Rating', 'Genres', 'Last Updated', 'Current Ver', 'Android Ver']\n",
      "\n",
      "\n",
      "['Photo Editor & Candy Camera & Grid & ScrapBook', 'ART_AND_DESIGN', '4.1', '159', '19M', '10,000+', 'Free', '0', 'Everyone', 'Art & Design', 'January 7, 2018', '1.0.0', '4.0.3 and up']\n",
      "\n",
      "\n",
      "['Coloring book moana', 'ART_AND_DESIGN', '3.9', '967', '14M', '500,000+', 'Free', '0', 'Everyone', 'Art & Design;Pretend Play', 'January 15, 2018', '2.0.0', '4.0.3 and up']\n",
      "\n",
      "\n"
     ]
    }
   ],
   "source": [
    "# Print android columns names\n",
    "\n",
    "exloreData(dataset=android_aps_data, start=0, stop=3, print_number_of_rows_and_columns=False)"
   ]
  },
  {
   "cell_type": "markdown",
   "metadata": {},
   "source": [
    "Possible needed data for us is under columns 'Category'[0], 'Rating'[1], 'Installs'[4], 'Type'[5], 'Content Rating'[7], 'Genres'[8], 'Android Ver'[11]"
   ]
  },
  {
   "cell_type": "code",
   "execution_count": 24,
   "metadata": {},
   "outputs": [
    {
     "name": "stdout",
     "output_type": "stream",
     "text": [
      "['', 'id', 'track_name', 'size_bytes', 'currency', 'price', 'rating_count_tot', 'rating_count_ver', 'user_rating', 'user_rating_ver', 'ver', 'cont_rating', 'prime_genre', 'sup_devices.num', 'ipadSc_urls.num', 'lang.num', 'vpp_lic']\n",
      "\n",
      "\n",
      "['1', '281656475', 'PAC-MAN Premium', '100788224', 'USD', '3.99', '21292', '26', '4', '4.5', '6.3.5', '4+', 'Games', '38', '5', '10', '1']\n",
      "\n",
      "\n",
      "['2', '281796108', 'Evernote - stay organized', '158578688', 'USD', '0', '161065', '26', '4', '3.5', '8.2.2', '4+', 'Productivity', '37', '5', '23', '1']\n",
      "\n",
      "\n"
     ]
    }
   ],
   "source": [
    "# Print ios columns names\n",
    "\n",
    "exloreData(dataset=ios_aps_data, start=0, stop=3, print_number_of_rows_and_columns=False)"
   ]
  },
  {
   "cell_type": "markdown",
   "metadata": {},
   "source": [
    "Possible needed data for us is under columns 'price'[5], 'user_rating'[8], 'cont_rating'[11], 'prime_genre'[12], 'sup_devices.num'[13], 'lang.num'[15]"
   ]
  }
 ],
 "metadata": {
  "kernelspec": {
   "display_name": "Python 3",
   "language": "python",
   "name": "python3"
  },
  "language_info": {
   "codemirror_mode": {
    "name": "ipython",
    "version": 3
   },
   "file_extension": ".py",
   "mimetype": "text/x-python",
   "name": "python",
   "nbconvert_exporter": "python",
   "pygments_lexer": "ipython3",
   "version": "3.6.7"
  }
 },
 "nbformat": 4,
 "nbformat_minor": 2
}
